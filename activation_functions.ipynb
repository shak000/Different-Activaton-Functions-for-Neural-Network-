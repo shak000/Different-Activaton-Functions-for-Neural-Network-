{
  "nbformat": 4,
  "nbformat_minor": 0,
  "metadata": {
    "colab": {
      "name": "activation_functions.ipynb",
      "provenance": []
    },
    "kernelspec": {
      "name": "python3",
      "display_name": "Python 3"
    }
  },
  "cells": [
    {
      "cell_type": "markdown",
      "metadata": {
        "id": "OklAWr2RZACB",
        "colab_type": "text"
      },
      "source": [
        "Different Activation Functions\n",
        "1. Identity Function.\n",
        "2. Sigmoid Function.\n",
        "3. Tanh Function. (Hyperbolic)\n",
        "4. ReLU Function.\n",
        "5. Leaky ReLU Function.\n",
        "6. Swish Activation Function.\n",
        "7. ArcTan Function.\n",
        "8. ELU Function.\n",
        "9. Softplus Function.\n",
        "\n"
      ]
    },
    {
      "cell_type": "markdown",
      "metadata": {
        "id": "jWtwG7XPaDW2",
        "colab_type": "text"
      },
      "source": [
        "**1. Identity Function.**\n",
        "\n",
        "**Formula - f (z ) = I(z) = z**"
      ]
    },
    {
      "cell_type": "code",
      "metadata": {
        "id": "djvo8uLmZ78K",
        "colab_type": "code",
        "colab": {}
      },
      "source": [
        "import matplotlib.pyplot as plt\n",
        "import numpy as np\n",
        "import math"
      ],
      "execution_count": 119,
      "outputs": []
    },
    {
      "cell_type": "code",
      "metadata": {
        "id": "7z3SuMCEa4W5",
        "colab_type": "code",
        "colab": {}
      },
      "source": [
        "identity = lambda x: y"
      ],
      "execution_count": 49,
      "outputs": []
    },
    {
      "cell_type": "code",
      "metadata": {
        "id": "svXdNQ2XbBMU",
        "colab_type": "code",
        "colab": {
          "base_uri": "https://localhost:8080/",
          "height": 35
        },
        "outputId": "371bffa6-2009-4910-f275-080da7785623"
      },
      "source": [
        "identity = [2,3]\n",
        "\n",
        "print (identity)\n"
      ],
      "execution_count": 131,
      "outputs": [
        {
          "output_type": "stream",
          "text": [
            "[2, 3]\n"
          ],
          "name": "stdout"
        }
      ]
    },
    {
      "cell_type": "markdown",
      "metadata": {
        "id": "Dh6ji5kygMqE",
        "colab_type": "text"
      },
      "source": [
        "**2. Sigmoid Function.**"
      ]
    },
    {
      "cell_type": "code",
      "metadata": {
        "id": "45FIr_tAbHRO",
        "colab_type": "code",
        "colab": {}
      },
      "source": [
        "def sigmoid(z):\n",
        "  return 1.0/(1.0+np.exp(-z))"
      ],
      "execution_count": 52,
      "outputs": []
    },
    {
      "cell_type": "code",
      "metadata": {
        "id": "MdpAVin2ggGU",
        "colab_type": "code",
        "colab": {
          "base_uri": "https://localhost:8080/",
          "height": 35
        },
        "outputId": "60ad6bdf-6a2d-4edc-b6fc-50af68a84ad5"
      },
      "source": [
        "sigmoid(1)"
      ],
      "execution_count": 118,
      "outputs": [
        {
          "output_type": "execute_result",
          "data": {
            "text/plain": [
              "0.7310585786300049"
            ]
          },
          "metadata": {
            "tags": []
          },
          "execution_count": 118
        }
      ]
    },
    {
      "cell_type": "markdown",
      "metadata": {
        "id": "jZjypijKh_Gz",
        "colab_type": "text"
      },
      "source": [
        "**3. Tanh Function**"
      ]
    },
    {
      "cell_type": "code",
      "metadata": {
        "id": "Se7V9xQigoEB",
        "colab_type": "code",
        "colab": {}
      },
      "source": [
        "def tanh(w):\n",
        "  return np.tanh(w)"
      ],
      "execution_count": 109,
      "outputs": []
    },
    {
      "cell_type": "code",
      "metadata": {
        "id": "oKD8TyXwiOxC",
        "colab_type": "code",
        "colab": {
          "base_uri": "https://localhost:8080/",
          "height": 35
        },
        "outputId": "384e1048-7b95-4a04-e5ed-26edb78e31f2"
      },
      "source": [
        "tanh(10)"
      ],
      "execution_count": 110,
      "outputs": [
        {
          "output_type": "execute_result",
          "data": {
            "text/plain": [
              "0.9999999958776927"
            ]
          },
          "metadata": {
            "tags": []
          },
          "execution_count": 110
        }
      ]
    },
    {
      "cell_type": "markdown",
      "metadata": {
        "id": "_BCzqGzjjMNg",
        "colab_type": "text"
      },
      "source": [
        "**4. ReLu Function**"
      ]
    },
    {
      "cell_type": "code",
      "metadata": {
        "id": "10XamvnEjIEG",
        "colab_type": "code",
        "colab": {}
      },
      "source": [
        "x = np.random.random(10**8)"
      ],
      "execution_count": 94,
      "outputs": []
    },
    {
      "cell_type": "code",
      "metadata": {
        "id": "7LTBYUX0ilRN",
        "colab_type": "code",
        "colab": {
          "base_uri": "https://localhost:8080/",
          "height": 35
        },
        "outputId": "4197d1bc-4b65-4b42-880c-65988e3cd81f"
      },
      "source": [
        "print(x)"
      ],
      "execution_count": 95,
      "outputs": [
        {
          "output_type": "stream",
          "text": [
            "[0.21603412 0.10616636 0.73374003 ... 0.7878936  0.58886302 0.39836867]\n"
          ],
          "name": "stdout"
        }
      ]
    },
    {
      "cell_type": "markdown",
      "metadata": {
        "id": "s46bfzL4jxeD",
        "colab_type": "text"
      },
      "source": [
        "4.1 method 1"
      ]
    },
    {
      "cell_type": "code",
      "metadata": {
        "id": "pWST_lcGjd1A",
        "colab_type": "code",
        "colab": {
          "base_uri": "https://localhost:8080/",
          "height": 35
        },
        "outputId": "a11d9c3f-f6bd-444e-b4b2-1190ade0a243"
      },
      "source": [
        "%timeit -n10 np.maximum(x, 0) "
      ],
      "execution_count": 96,
      "outputs": [
        {
          "output_type": "stream",
          "text": [
            "10 loops, best of 3: 211 ms per loop\n"
          ],
          "name": "stdout"
        }
      ]
    },
    {
      "cell_type": "markdown",
      "metadata": {
        "id": "BCgRBeogkEWZ",
        "colab_type": "text"
      },
      "source": [
        "4.2 method 2"
      ]
    },
    {
      "cell_type": "code",
      "metadata": {
        "id": "0esHirT2jpWe",
        "colab_type": "code",
        "colab": {
          "base_uri": "https://localhost:8080/",
          "height": 35
        },
        "outputId": "bda9e0f5-dfd4-4261-fef5-4fe56e44888f"
      },
      "source": [
        "%timeit -n10 np.maximum(x, 0, x) "
      ],
      "execution_count": 97,
      "outputs": [
        {
          "output_type": "stream",
          "text": [
            "10 loops, best of 3: 205 ms per loop\n"
          ],
          "name": "stdout"
        }
      ]
    },
    {
      "cell_type": "markdown",
      "metadata": {
        "id": "nr4fOU9Yke04",
        "colab_type": "text"
      },
      "source": [
        "4.3 method 3"
      ]
    },
    {
      "cell_type": "code",
      "metadata": {
        "id": "-gQJ3CP1kJTd",
        "colab_type": "code",
        "colab": {
          "base_uri": "https://localhost:8080/",
          "height": 35
        },
        "outputId": "a46ce658-ead1-4281-908c-119cb3c1acb0"
      },
      "source": [
        "%timeit -n10 x*(x>0)"
      ],
      "execution_count": 98,
      "outputs": [
        {
          "output_type": "stream",
          "text": [
            "10 loops, best of 3: 354 ms per loop\n"
          ],
          "name": "stdout"
        }
      ]
    },
    {
      "cell_type": "markdown",
      "metadata": {
        "id": "rNQHMt_0kxK8",
        "colab_type": "text"
      },
      "source": [
        "4.4 method 4"
      ]
    },
    {
      "cell_type": "code",
      "metadata": {
        "id": "qty6WueYkn4k",
        "colab_type": "code",
        "colab": {
          "base_uri": "https://localhost:8080/",
          "height": 35
        },
        "outputId": "5464eee1-210d-413f-d93a-120cc7c365bc"
      },
      "source": [
        "%timeit -n10 (abs(x) + x)/2"
      ],
      "execution_count": 99,
      "outputs": [
        {
          "output_type": "stream",
          "text": [
            "10 loops, best of 3: 387 ms per loop\n"
          ],
          "name": "stdout"
        }
      ]
    },
    {
      "cell_type": "markdown",
      "metadata": {
        "id": "LsWfs0IXmQJH",
        "colab_type": "text"
      },
      "source": [
        "**5. Leaky ReLU Function.**"
      ]
    },
    {
      "cell_type": "code",
      "metadata": {
        "id": "_SOCMZBOk7Pd",
        "colab_type": "code",
        "colab": {}
      },
      "source": [
        "def leakyrelu(p):\n",
        "  return np.maximum(0.01*p, p)"
      ],
      "execution_count": 111,
      "outputs": []
    },
    {
      "cell_type": "code",
      "metadata": {
        "id": "KSwNfeTLmjE3",
        "colab_type": "code",
        "colab": {
          "base_uri": "https://localhost:8080/",
          "height": 35
        },
        "outputId": "114b762b-8394-486e-878c-ea1b1348858a"
      },
      "source": [
        "leakyrelu(-10)"
      ],
      "execution_count": 112,
      "outputs": [
        {
          "output_type": "execute_result",
          "data": {
            "text/plain": [
              "-0.1"
            ]
          },
          "metadata": {
            "tags": []
          },
          "execution_count": 112
        }
      ]
    },
    {
      "cell_type": "markdown",
      "metadata": {
        "id": "CR0F2u28rHSd",
        "colab_type": "text"
      },
      "source": [
        "**6. Swish Function**"
      ]
    },
    {
      "cell_type": "code",
      "metadata": {
        "id": "oqDwlZwUml1p",
        "colab_type": "code",
        "colab": {}
      },
      "source": [
        "def swishFunction(q, beta):\n",
        "  return q*sigmoid(beta*q)"
      ],
      "execution_count": 116,
      "outputs": []
    },
    {
      "cell_type": "code",
      "metadata": {
        "id": "QNSuknihrpkt",
        "colab_type": "code",
        "colab": {
          "base_uri": "https://localhost:8080/",
          "height": 35
        },
        "outputId": "c8c27d97-2c81-41fc-b384-de827076ba4e"
      },
      "source": [
        "swishFunction(10,0.1)"
      ],
      "execution_count": 117,
      "outputs": [
        {
          "output_type": "execute_result",
          "data": {
            "text/plain": [
              "7.310585786300049"
            ]
          },
          "metadata": {
            "tags": []
          },
          "execution_count": 117
        }
      ]
    },
    {
      "cell_type": "markdown",
      "metadata": {
        "id": "Z8mbMsmIseXX",
        "colab_type": "text"
      },
      "source": [
        "**7. ArcTan Funtion**"
      ]
    },
    {
      "cell_type": "code",
      "metadata": {
        "id": "lzYmQ-Hur6iu",
        "colab_type": "code",
        "colab": {}
      },
      "source": [
        "def arcTan(s):\n",
        "  return math.degrees(math.atan(s))"
      ],
      "execution_count": 125,
      "outputs": []
    },
    {
      "cell_type": "code",
      "metadata": {
        "id": "Z_48oI_WrtVn",
        "colab_type": "code",
        "colab": {
          "base_uri": "https://localhost:8080/",
          "height": 35
        },
        "outputId": "63609fe1-c67b-4b54-bc9f-684eadfe03cc"
      },
      "source": [
        "arcTan(1.18)"
      ],
      "execution_count": 126,
      "outputs": [
        {
          "output_type": "execute_result",
          "data": {
            "text/plain": [
              "49.720136931043555"
            ]
          },
          "metadata": {
            "tags": []
          },
          "execution_count": 126
        }
      ]
    },
    {
      "cell_type": "markdown",
      "metadata": {
        "id": "O6yHgi-BtQZ4",
        "colab_type": "text"
      },
      "source": [
        "**8. ELU Function**"
      ]
    },
    {
      "cell_type": "code",
      "metadata": {
        "id": "RQe0LdPPs-v2",
        "colab_type": "code",
        "colab": {}
      },
      "source": [
        "def elu(z,alpha):\n",
        "\treturn z if z >= 0 else alpha*(e^z -1)"
      ],
      "execution_count": 127,
      "outputs": []
    },
    {
      "cell_type": "code",
      "metadata": {
        "id": "GRx7UkQftlgx",
        "colab_type": "code",
        "colab": {
          "base_uri": "https://localhost:8080/",
          "height": 35
        },
        "outputId": "6ce32fa8-6429-4e49-a455-6d62f48a80b5"
      },
      "source": [
        "elu(10, 0.1)"
      ],
      "execution_count": 128,
      "outputs": [
        {
          "output_type": "execute_result",
          "data": {
            "text/plain": [
              "10"
            ]
          },
          "metadata": {
            "tags": []
          },
          "execution_count": 128
        }
      ]
    },
    {
      "cell_type": "markdown",
      "metadata": {
        "id": "9rEJHMUSuC5_",
        "colab_type": "text"
      },
      "source": [
        "**9. softplus Function**"
      ]
    },
    {
      "cell_type": "code",
      "metadata": {
        "id": "OH0tQYbYt-l9",
        "colab_type": "code",
        "colab": {}
      },
      "source": [
        "def softPlus(z):\n",
        "  return np.log(1+np.exp(z))\n"
      ],
      "execution_count": 129,
      "outputs": []
    },
    {
      "cell_type": "code",
      "metadata": {
        "id": "U6ChRcCzuuG0",
        "colab_type": "code",
        "colab": {
          "base_uri": "https://localhost:8080/",
          "height": 35
        },
        "outputId": "a18aab9c-cea4-4da6-f395-023cc3370dc7"
      },
      "source": [
        "softPlus(10)"
      ],
      "execution_count": 130,
      "outputs": [
        {
          "output_type": "execute_result",
          "data": {
            "text/plain": [
              "10.000045398899218"
            ]
          },
          "metadata": {
            "tags": []
          },
          "execution_count": 130
        }
      ]
    },
    {
      "cell_type": "code",
      "metadata": {
        "id": "BhVWm3BOuv_0",
        "colab_type": "code",
        "colab": {}
      },
      "source": [
        ""
      ],
      "execution_count": null,
      "outputs": []
    }
  ]
}